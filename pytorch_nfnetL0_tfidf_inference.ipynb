{
 "cells": [
  {
   "cell_type": "markdown",
   "id": "disabled-rotation",
   "metadata": {},
   "source": [
    "# About this notebook\n",
    "\n",
    "NfnetL0(Mish)+ArcFace+TFIDF\n",
    "\n",
    "My code is based on this code.\n",
    "https://www.kaggle.com/parthdhameliya77/pytorch-eca-nfnet-l0-image-tfidf-inference"
   ]
  },
  {
   "cell_type": "code",
   "execution_count": 1,
   "id": "loving-signature",
   "metadata": {
    "_cell_guid": "b1076dfc-b9ad-4769-8c92-a6c4dae69d19",
    "_uuid": "8f2839f25d086af736a60e9eeb907d3b93b6e0e5",
    "execution": {
     "iopub.execute_input": "2021-05-09T12:56:26.345679Z",
     "iopub.status.busy": "2021-05-09T12:56:26.345144Z",
     "iopub.status.idle": "2021-05-09T12:56:26.349073Z",
     "shell.execute_reply": "2021-05-09T12:56:26.348594Z"
    },
    "papermill": {
     "duration": 0.024054,
     "end_time": "2021-05-09T12:56:26.349216",
     "exception": false,
     "start_time": "2021-05-09T12:56:26.325162",
     "status": "completed"
    },
    "tags": []
   },
   "outputs": [],
   "source": [
    "import sys\n",
    "sys.path.append('../input/timm-pytorch-image-models/pytorch-image-models-master')"
   ]
  },
  {
   "cell_type": "code",
   "execution_count": 2,
   "id": "bored-syracuse",
   "metadata": {
    "execution": {
     "iopub.execute_input": "2021-05-09T12:56:26.383113Z",
     "iopub.status.busy": "2021-05-09T12:56:26.382540Z",
     "iopub.status.idle": "2021-05-09T12:56:35.503899Z",
     "shell.execute_reply": "2021-05-09T12:56:35.502923Z"
    },
    "papermill": {
     "duration": 9.140182,
     "end_time": "2021-05-09T12:56:35.504035",
     "exception": false,
     "start_time": "2021-05-09T12:56:26.363853",
     "status": "completed"
    },
    "tags": []
   },
   "outputs": [],
   "source": [
    "import numpy as np \n",
    "import pandas as pd \n",
    "\n",
    "import math\n",
    "import random \n",
    "import os \n",
    "import cv2\n",
    "import timm\n",
    "\n",
    "from tqdm import tqdm \n",
    "\n",
    "import albumentations as A \n",
    "from albumentations.pytorch.transforms import ToTensorV2\n",
    "\n",
    "import torch \n",
    "from torch.utils.data import Dataset \n",
    "from torch import nn\n",
    "import torch.nn.functional as F \n",
    "\n",
    "import gc\n",
    "import cudf\n",
    "import cuml\n",
    "import cupy\n",
    "from cuml.feature_extraction.text import TfidfVectorizer\n",
    "from cuml.neighbors import NearestNeighbors\n"
   ]
  },
  {
   "cell_type": "code",
   "execution_count": 3,
   "id": "broad-washer",
   "metadata": {
    "execution": {
     "iopub.execute_input": "2021-05-09T12:56:35.571822Z",
     "iopub.status.busy": "2021-05-09T12:56:35.557118Z",
     "iopub.status.idle": "2021-05-09T12:56:35.574400Z",
     "shell.execute_reply": "2021-05-09T12:56:35.573950Z"
    },
    "papermill": {
     "duration": 0.056261,
     "end_time": "2021-05-09T12:56:35.574531",
     "exception": false,
     "start_time": "2021-05-09T12:56:35.518270",
     "status": "completed"
    },
    "tags": []
   },
   "outputs": [],
   "source": [
    "# English&Indonesia\n",
    "stop_words_all = ['i', 'me', 'my', 'myself', 'we', 'our', 'ours', 'ourselves',\n",
    "                  'you', \"you're\", \"you've\", \"you'll\", \"you'd\", 'your', 'yours',\n",
    "                  'yourself', 'yourselves', 'he', 'him', 'his', 'himself', 'she',\n",
    "                  \"she's\", 'her', 'hers', 'herself', 'it', \"it's\", 'its', 'itself',\n",
    "                  'they', 'them', 'their', 'theirs', 'themselves', 'what', 'which',\n",
    "                  'who', 'whom', 'this', 'that', \"that'll\", 'these', 'those', 'am',\n",
    "                  'is', 'are', 'was', 'were', 'be', 'been', 'being', 'have', 'has',\n",
    "                  'had', 'having', 'do', 'does', 'did', 'doing', 'a', 'an', 'the',\n",
    "                  'and', 'but', 'if', 'or', 'because', 'as', 'until', 'while', 'of',\n",
    "                  'at', 'by', 'for', 'with', 'about', 'against', 'between', 'into',\n",
    "                  'through', 'during', 'before', 'after', 'above', 'below', 'to',\n",
    "                  'from', 'up', 'down', 'in', 'out', 'on', 'off', 'over', 'under',\n",
    "                  'again', 'further', 'then', 'once', 'here', 'there', 'when', 'where',\n",
    "                  'why', 'how', 'all', 'any', 'both', 'each', 'few', 'more', 'most',\n",
    "                  'other', 'some', 'such', 'no', 'nor', 'not', 'only', 'own', 'same',\n",
    "                  'so', 'than', 'too', 'very', 's', 't', 'can', 'will', 'just', 'don',\n",
    "                  \"don't\", 'should', \"should've\", 'now', 'd', 'll', 'm', 'o', 're',\n",
    "                  've', 'y', 'ain', 'aren', \"aren't\", 'couldn', \"couldn't\", 'didn',\n",
    "                  \"didn't\", 'doesn', \"doesn't\", 'hadn', \"hadn't\", 'hasn', \"hasn't\",\n",
    "                  'haven', \"haven't\", 'isn', \"isn't\", 'ma', 'mightn', \"mightn't\",\n",
    "                  'mustn', \"mustn't\", 'needn', \"needn't\", 'shan', \"shan't\", 'shouldn',\"shouldn't\",\n",
    "                  'wasn', \"wasn't\", 'weren', \"weren't\", 'won', \"won't\", 'wouldn',\"wouldn't\",\n",
    "                  'ada', 'adalah', 'adanya', 'adapun', 'agak', 'agaknya', 'agar', 'akan',\n",
    "                  'akankah', 'akhir', 'akhiri', 'akhirnya', 'aku', 'akulah', 'amat', 'amatlah',\n",
    "                  'anda', 'andalah', 'antar', 'antara', 'antaranya', 'apa', 'apaan', 'apabila',\n",
    "                  'apakah', 'apalagi', 'apatah', 'artinya', 'asal', 'asalkan', 'atas', 'atau',\n",
    "                  'ataukah', 'ataupun', 'awal', 'awalnya', 'bagai', 'bagaikan', 'bagaimana',\n",
    "                  'bagaimanakah', 'bagaimanapun', 'bagi', 'bagian', 'bahkan', 'bahwa', 'bahwasanya',\n",
    "                  'baik', 'bakal', 'bakalan', 'balik', 'banyak', 'bapak', 'baru', 'bawah', 'beberapa',\n",
    "                  'begini', 'beginian', 'beginikah', 'beginilah', 'begitu', 'begitukah', 'begitulah',\n",
    "                  'begitupun', 'bekerja', 'belakang', 'belakangan', 'belum', 'belumlah', 'benar',\n",
    "                  'benarkah', 'benarlah', 'berada', 'berakhir', 'berakhirlah', 'berakhirnya',\n",
    "                  'berapa', 'berapakah', 'berapalah', 'berapapun', 'berarti', 'berawal', 'berbagai',\n",
    "                  'berdatangan', 'beri', 'berikan', 'berikut', 'berikutnya', 'berjumlah',\n",
    "                  'berkali-kali', 'berkata', 'berkehendak', 'berkeinginan', 'berkenaan', 'berlainan',\n",
    "                  'berlalu', 'berlangsung', 'berlebihan', 'bermacam', 'bermacam-macam', 'bermaksud',\n",
    "                  'bermula', 'bersama', 'bersama-sama', 'bersiap', 'bersiap-siap', 'bertanya',\n",
    "                  'bertanya-tanya', 'berturut', 'berturut-turut', 'bertutur', 'berujar', 'berupa',\n",
    "                  'besar', 'betul', 'betulkah', 'biasa', 'biasanya', 'bila', 'bilakah', 'bisa',\n",
    "                  'bisakah', 'boleh', 'bolehkah', 'bolehlah', 'buat', 'bukan', 'bukankah', 'bukanlah',\n",
    "                  'bukannya', 'bulan', 'bung', 'cara', 'caranya', 'cukup', 'cukupkah', 'cukuplah',\n",
    "                  'cuma', 'dahulu', 'dalam', 'dan', 'dapat', 'dari', 'daripada', 'datang', 'dekat',\n",
    "                  'demi', 'demikian', 'demikianlah', 'dengan', 'depan', 'di', 'dia', 'diakhiri',\n",
    "                  'diakhirinya', 'dialah', 'diantara', 'diantaranya', 'diberi', 'diberikan',\n",
    "                  'diberikannya', 'dibuat', 'dibuatnya', 'didapat', 'didatangkan', 'digunakan',\n",
    "                  'diibaratkan', 'diibaratkannya', 'diingat', 'diingatkan', 'diinginkan', 'dijawab',\n",
    "                  'dijelaskan', 'dijelaskannya', 'dikarenakan', 'dikatakan', 'dikatakannya',\n",
    "                  'dikerjakan', 'diketahui', 'diketahuinya', 'dikira', 'dilakukan', 'dilalui',\n",
    "                  'dilihat', 'dimaksud', 'dimaksudkan', 'dimaksudkannya', 'dimaksudnya', 'diminta',\n",
    "                  'dimintai', 'dimisalkan', 'dimulai', 'dimulailah', 'dimulainya', 'dimungkinkan', 'dini', \n",
    "                  'dipastikan', 'diperbuat', 'diperbuatnya', 'dipergunakan', 'diperkirakan', 'diperlihatkan', \n",
    "                  'diperlukan', 'diperlukannya', 'dipersoalkan', 'dipertanyakan', 'dipunyai', 'diri', 'dirinya',\n",
    "                  'disampaikan', 'disebut', 'disebutkan', 'disebutkannya', 'disini', 'disinilah', 'ditambahkan', \n",
    "                  'ditandaskan', 'ditanya', 'ditanyai', 'ditanyakan', 'ditegaskan', 'ditujukan', 'ditunjuk', 'ditunjuki',\n",
    "                  'ditunjukkan', 'ditunjukkannya', 'ditunjuknya', 'dituturkan', 'dituturkannya', 'diucapkan',\n",
    "                  'diucapkannya', 'diungkapkan', 'dong', 'dua', 'dulu', 'empat', 'enggak', 'enggaknya', 'entah', \n",
    "                  'entahlah', 'guna', 'gunakan', 'hal', 'hampir', 'hanya', 'hanyalah', 'hari', 'harus', 'haruslah',\n",
    "                  'harusnya', 'hendak', 'hendaklah', 'hendaknya', 'hingga', 'ia', 'ialah', 'ibarat', 'ibaratkan',\n",
    "                  'ibaratnya', 'ibu', 'ikut', 'ingat', 'ingat-ingat', 'ingin', 'inginkah', 'inginkan', 'ini', 'inikah', 'inilah', \n",
    "                  'itu', 'itukah', 'itulah', 'jadi', 'jadilah', 'jadinya', 'jangan', 'jangankan', 'janganlah', 'jauh', 'jawab', \n",
    "                  'jawaban', 'jawabnya', 'jelas', 'jelaskan', 'jelaslah', 'jelasnya', 'jika', 'jikalau', 'juga', 'jumlah', \n",
    "                  'jumlahnya', 'justru', 'kala', 'kalau', 'kalaulah', 'kalaupun', 'kalian', 'kami', 'kamilah', 'kamu', \n",
    "                  'kamulah', 'kan', 'kapan', 'kapankah', 'kapanpun', 'karena', 'karenanya', 'kasus', 'kata', 'katakan', \n",
    "                  'katakanlah', 'katanya', 'ke', 'keadaan', 'kebetulan', 'kecil', 'kedua', 'keduanya', 'keinginan',\n",
    "                  'kelamaan', 'kelihatan', 'kelihatannya', 'kelima', 'keluar', 'kembali', 'kemudian', 'kemungkinan',\n",
    "                  'kemungkinannya', 'kenapa', 'kepada', 'kepadanya', 'kesampaian', 'keseluruhan', 'keseluruhannya', \n",
    "                  'keterlaluan', 'ketika', 'khususnya', 'kini', 'kinilah', 'kira', 'kira-kira', 'kiranya', 'kita', 'kitalah', 'kok', \n",
    "                  'kurang', 'lagi', 'lagian', 'lah', 'lain', 'lainnya', 'lalu', 'lama', 'lamanya', 'lanjut', 'lanjutnya', 'lebih', \n",
    "                  'lewat', 'lima', 'luar', 'macam', 'maka', 'makanya', 'makin', 'malah', 'malahan', 'mampu', 'mampukah',\n",
    "                  'mana', 'manakala', 'manalagi', 'masa', 'masalah', 'masalahnya', 'masih', 'masihkah', 'masing',\n",
    "                  'masing-masing', 'mau', 'maupun', 'melainkan', 'melakukan', 'melalui', 'melihat', 'melihatnya', \n",
    "                  'memang', 'memastikan', 'memberi', 'memberikan', 'membuat', 'memerlukan', 'memihak',\n",
    "                  'meminta', 'memintakan', 'memisalkan', 'memperbuat', 'mempergunakan', 'memperkirakan',\n",
    "                  'memperlihatkan', 'mempersiapkan', 'mempersoalkan', 'mempertanyakan', 'mempunyai', 'memulai',\n",
    "                  'memungkinkan', 'menaiki', 'menambahkan', 'menandaskan', 'menanti', 'menanti-nanti',\n",
    "                  'menantikan', 'menanya', 'menanyai', 'menanyakan', 'mendapat', 'mendapatkan', 'mendatang',\n",
    "                  'mendatangi', 'mendatangkan', 'menegaskan', 'mengakhiri', 'mengapa', 'mengatakan',\n",
    "                  'mengatakannya', 'mengenai', 'mengerjakan', 'mengetahui', 'menggunakan', 'menghendaki', \n",
    "                  'mengibaratkan', 'mengibaratkannya', 'mengingat', 'mengingatkan', 'menginginkan', 'mengira',\n",
    "                  'mengucapkan', 'mengucapkannya', 'mengungkapkan', 'menjadi', 'menjawab', 'menjelaskan',\n",
    "                  'menuju', 'menunjuk', 'menunjuki', 'menunjukkan', 'menunjuknya', 'menurut', 'menuturkan', \n",
    "                  'menyampaikan', 'menyangkut', 'menyatakan', 'menyebutkan', 'menyeluruh', 'menyiapkan',\n",
    "                  'merasa', 'mereka', 'merekalah', 'merupakan', 'meski', 'meskipun', 'meyakini', 'meyakinkan',\n",
    "                  'minta', 'mirip', 'misal', 'misalkan', 'misalnya', 'mula', 'mulai', 'mulailah', 'mulanya', 'mungkin', \n",
    "                  'mungkinkah', 'nah', 'naik', 'namun', 'nanti', 'nantinya', 'nyaris', 'nyatanya', 'oleh', 'olehnya', \n",
    "                  'pada', 'padahal', 'padanya', 'pak', 'paling', 'panjang', 'pantas', 'para', 'pasti', 'pastilah', 'penting',\n",
    "                  'pentingnya', 'per', 'percuma', 'perlu', 'perlukah', 'perlunya', 'pernah', 'persoalan', 'pertama',\n",
    "                  'pertama-tama', 'pertanyaan', 'pertanyakan', 'pihak', 'pihaknya', 'pukul', 'pula', 'pun', 'punya',\n",
    "                  'rasa', 'rasanya', 'rata', 'rupanya', 'saat', 'saatnya', 'saja', 'sajalah', 'saling', 'sama', 'sama-sama',\n",
    "                  'sambil', 'sampai', 'sampai-sampai', 'sampaikan', 'sana', 'sangat', 'sangatlah', 'satu', 'saya',\n",
    "                  'sayalah', 'se', 'sebab', 'sebabnya', 'sebagai', 'sebagaimana', 'sebagainya', 'sebagian', 'sebaik',\n",
    "                  'sebaik-baiknya', 'sebaiknya', 'sebaliknya', 'sebanyak', 'sebegini', 'sebegitu', 'sebelum', \n",
    "                  'sebelumnya', 'sebenarnya', 'seberapa', 'sebesar', 'sebetulnya', 'sebisanya', 'sebuah', 'sebut',\n",
    "                  'sebutlah', 'sebutnya', 'secara', 'secukupnya', 'sedang', 'sedangkan', 'sedemikian', 'sedikit', \n",
    "                  'sedikitnya', 'seenaknya', 'segala', 'segalanya', 'segera', 'seharusnya', 'sehingga', 'seingat', \n",
    "                  'sejak', 'sejauh', 'sejenak', 'sejumlah', 'sekadar', 'sekadarnya', 'sekali', 'sekali-kali', 'sekalian', \n",
    "                  'sekaligus', 'sekalipun', 'sekarang', 'sekarang', 'sekecil', 'seketika', 'sekiranya', 'sekitar',\n",
    "                  'sekitarnya', 'sekurang-kurangnya', 'sekurangnya', 'sela', 'selain', 'selaku', 'selalu', 'selama', \n",
    "                  'selama-lamanya', 'selamanya', 'selanjutnya', 'seluruh', 'seluruhnya', 'semacam', 'semakin',\n",
    "                  'semampu', 'semampunya', 'semasa', 'semasih', 'semata', 'semata-mata', 'semaunya', \n",
    "                  'sementara', 'semisal', 'semisalnya', 'sempat', 'semua', 'semuanya', 'semula', 'sendiri', \n",
    "                  'sendirian', 'sendirinya', 'seolah', 'seolah-olah', 'seorang', 'sepanjang', 'sepantasnya', \n",
    "                  'sepantasnyalah', 'seperlunya', 'seperti', 'sepertinya', 'sepihak', 'sering', 'seringnya', 'serta',\n",
    "                  'serupa', 'sesaat', 'sesama', 'sesampai', 'sesegera', 'sesekali', 'seseorang', 'sesuatu',\n",
    "                  'sesuatunya', 'sesudah', 'sesudahnya', 'setelah', 'setempat', 'setengah', 'seterusnya', 'setiap',\n",
    "                  'setiba', 'setibanya', 'setidak-tidaknya', 'setidaknya', 'setinggi', 'seusai', 'sewaktu', 'siap',\n",
    "                  'siapa', 'siapakah', 'siapapun', 'sini', 'sinilah', 'soal', 'soalnya', 'suatu', 'sudah', 'sudahkah', \n",
    "                  'sudahlah', 'supaya', 'tadi', 'tadinya', 'tahu', 'tahun', 'tak', 'tambah', 'tambahnya', 'tampak',\n",
    "                  'tampaknya', 'tandas', 'tandasnya', 'tanpa', 'tanya', 'tanyakan', 'tanyanya', 'tapi', 'tegas', \n",
    "                  'tegasnya', 'telah', 'tempat', 'tengah', 'tentang', 'tentu', 'tentulah', 'tentunya', 'tepat', 'terakhir',\n",
    "                  'terasa', 'terbanyak', 'terdahulu', 'terdapat', 'terdiri', 'terhadap', 'terhadapnya', 'teringat', \n",
    "                  'teringat-ingat', 'terjadi', 'terjadilah', 'terjadinya', 'terkira', 'terlalu', 'terlebih', 'terlihat', 'termasuk', \n",
    "                  'ternyata', 'tersampaikan', 'tersebut', 'tersebutlah', 'tertentu', 'tertuju', 'terus', 'terutama', 'tetap',\n",
    "                  'tetapi', 'tiap', 'tiba', 'tiba-tiba', 'tidak', 'tidakkah', 'tidaklah', 'tiga', 'tinggi', 'toh', 'tunjuk', 'turut',\n",
    "                  'tutur', 'tuturnya', 'ucap', 'ucapnya', 'ujar', 'ujarnya', 'umum', 'umumnya', 'ungkap', 'ungkapnya',\n",
    "                  'untuk', 'usah', 'usai', 'waduh', 'wah', 'wahai', 'waktu', 'waktunya', 'walau', 'walaupun', 'wong', \n",
    "                  'yaitu', 'yakin', 'yakni', 'yang']"
   ]
  },
  {
   "cell_type": "code",
   "execution_count": 4,
   "id": "meaning-donna",
   "metadata": {
    "execution": {
     "iopub.execute_input": "2021-05-09T12:56:35.608172Z",
     "iopub.status.busy": "2021-05-09T12:56:35.607298Z",
     "iopub.status.idle": "2021-05-09T12:56:35.609725Z",
     "shell.execute_reply": "2021-05-09T12:56:35.610160Z"
    },
    "papermill": {
     "duration": 0.021648,
     "end_time": "2021-05-09T12:56:35.610317",
     "exception": false,
     "start_time": "2021-05-09T12:56:35.588669",
     "status": "completed"
    },
    "tags": []
   },
   "outputs": [],
   "source": [
    "class CFG:\n",
    "    \n",
    "    #img_size = 512\n",
    "    img_size = 600\n",
    "    batch_size = 12\n",
    "    seed = 2020\n",
    "    \n",
    "    device = 'cuda'\n",
    "    classes = 11014\n",
    "    \n",
    "    model_name = 'eca_nfnet_l1'\n",
    "    #model_path = '../input/shopee-pytorch-models/arcface_512x512_nfnet_l0 (mish).pt'\n",
    "    model_path = '../input/nfnet-models/arcface_600x600_nfnet_l0(mish)_15.pt'\n",
    "    \n",
    "    scale = 30 \n",
    "    margin = 0.5"
   ]
  },
  {
   "cell_type": "code",
   "execution_count": 5,
   "id": "cognitive-maple",
   "metadata": {
    "execution": {
     "iopub.execute_input": "2021-05-09T12:56:35.644087Z",
     "iopub.status.busy": "2021-05-09T12:56:35.643282Z",
     "iopub.status.idle": "2021-05-09T12:56:35.646187Z",
     "shell.execute_reply": "2021-05-09T12:56:35.645643Z"
    },
    "papermill": {
     "duration": 0.021983,
     "end_time": "2021-05-09T12:56:35.646353",
     "exception": false,
     "start_time": "2021-05-09T12:56:35.624370",
     "status": "completed"
    },
    "tags": []
   },
   "outputs": [],
   "source": [
    "def read_dataset():\n",
    "    df = pd.read_csv('../input/shopee-product-matching/test.csv')\n",
    "    df_cu = cudf.DataFrame(df)\n",
    "    image_paths = '../input/shopee-product-matching/test_images/' + df['image']\n",
    "    return df, df_cu, image_paths"
   ]
  },
  {
   "cell_type": "code",
   "execution_count": 6,
   "id": "advance-nevada",
   "metadata": {
    "execution": {
     "iopub.execute_input": "2021-05-09T12:56:35.680678Z",
     "iopub.status.busy": "2021-05-09T12:56:35.679975Z",
     "iopub.status.idle": "2021-05-09T12:56:35.686620Z",
     "shell.execute_reply": "2021-05-09T12:56:35.686043Z"
    },
    "papermill": {
     "duration": 0.025931,
     "end_time": "2021-05-09T12:56:35.686768",
     "exception": false,
     "start_time": "2021-05-09T12:56:35.660837",
     "status": "completed"
    },
    "tags": []
   },
   "outputs": [],
   "source": [
    "def seed_torch(seed=42):\n",
    "    random.seed(seed)\n",
    "    os.environ['PYTHONHASHSEED'] = str(seed)\n",
    "    np.random.seed(seed)\n",
    "    torch.manual_seed(seed)\n",
    "    torch.cuda.manual_seed(seed)\n",
    "    torch.backends.cudnn.deterministic = True\n",
    "    \n",
    "seed_torch(CFG.seed)"
   ]
  },
  {
   "cell_type": "code",
   "execution_count": 7,
   "id": "indie-vessel",
   "metadata": {
    "execution": {
     "iopub.execute_input": "2021-05-09T12:56:35.724876Z",
     "iopub.status.busy": "2021-05-09T12:56:35.723976Z",
     "iopub.status.idle": "2021-05-09T12:56:35.726807Z",
     "shell.execute_reply": "2021-05-09T12:56:35.726324Z"
    },
    "papermill": {
     "duration": 0.024322,
     "end_time": "2021-05-09T12:56:35.726943",
     "exception": false,
     "start_time": "2021-05-09T12:56:35.702621",
     "status": "completed"
    },
    "tags": []
   },
   "outputs": [],
   "source": [
    "def get_image_predictions(df, embeddings,threshold = 0.0):\n",
    "    \n",
    "    if len(df) > 3:\n",
    "        KNN = 50\n",
    "    else : \n",
    "        KNN = 3\n",
    "    \n",
    "    model = NearestNeighbors(n_neighbors = KNN, metric = 'cosine')\n",
    "    model.fit(embeddings)\n",
    "    distances, indices = model.kneighbors(embeddings)\n",
    "    \n",
    "    predictions = []\n",
    "    for k in tqdm(range(embeddings.shape[0])):\n",
    "        idx = np.where(distances[k,] < threshold)[0]\n",
    "        ids = indices[k,idx]\n",
    "        posting_ids = df['posting_id'].iloc[ids].values\n",
    "        predictions.append(posting_ids)\n",
    "        \n",
    "    del model, distances, indices\n",
    "    gc.collect()\n",
    "    return predictions"
   ]
  },
  {
   "cell_type": "code",
   "execution_count": 8,
   "id": "improving-sharing",
   "metadata": {
    "execution": {
     "iopub.execute_input": "2021-05-09T12:56:35.760897Z",
     "iopub.status.busy": "2021-05-09T12:56:35.760062Z",
     "iopub.status.idle": "2021-05-09T12:56:35.762891Z",
     "shell.execute_reply": "2021-05-09T12:56:35.762455Z"
    },
    "papermill": {
     "duration": 0.021727,
     "end_time": "2021-05-09T12:56:35.763013",
     "exception": false,
     "start_time": "2021-05-09T12:56:35.741286",
     "status": "completed"
    },
    "tags": []
   },
   "outputs": [],
   "source": [
    "def get_test_transforms():\n",
    "\n",
    "    return A.Compose(\n",
    "        [\n",
    "            A.Resize(CFG.img_size,CFG.img_size,always_apply=True),\n",
    "            A.Normalize(),\n",
    "        ToTensorV2(p=1.0)\n",
    "        ]\n",
    "    )"
   ]
  },
  {
   "cell_type": "code",
   "execution_count": 10,
   "id": "confused-occurrence",
   "metadata": {
    "execution": {
     "iopub.execute_input": "2021-05-09T12:56:35.836098Z",
     "iopub.status.busy": "2021-05-09T12:56:35.835310Z",
     "iopub.status.idle": "2021-05-09T12:56:35.838073Z",
     "shell.execute_reply": "2021-05-09T12:56:35.837667Z"
    },
    "papermill": {
     "duration": 0.023868,
     "end_time": "2021-05-09T12:56:35.838262",
     "exception": false,
     "start_time": "2021-05-09T12:56:35.814394",
     "status": "completed"
    },
    "tags": []
   },
   "outputs": [],
   "source": [
    "class ShopeeDataset(Dataset):\n",
    "    def __init__(self, image_paths, transforms=None):\n",
    "\n",
    "        self.image_paths = image_paths\n",
    "        self.augmentations = transforms\n",
    "\n",
    "    def __len__(self):\n",
    "        return self.image_paths.shape[0]\n",
    "\n",
    "    def __getitem__(self, index):\n",
    "        image_path = self.image_paths[index]\n",
    "        \n",
    "        image = cv2.imread(image_path)\n",
    "        image = cv2.cvtColor(image, cv2.COLOR_BGR2RGB)\n",
    "        \n",
    "        if self.augmentations:\n",
    "            augmented = self.augmentations(image=image)\n",
    "            image = augmented['image']       \n",
    "    \n",
    "        return image,torch.tensor(1)"
   ]
  },
  {
   "cell_type": "code",
   "execution_count": 11,
   "id": "increased-crime",
   "metadata": {
    "execution": {
     "iopub.execute_input": "2021-05-09T12:56:35.890562Z",
     "iopub.status.busy": "2021-05-09T12:56:35.889501Z",
     "iopub.status.idle": "2021-05-09T12:56:35.891927Z",
     "shell.execute_reply": "2021-05-09T12:56:35.892397Z"
    },
    "papermill": {
     "duration": 0.039239,
     "end_time": "2021-05-09T12:56:35.892545",
     "exception": false,
     "start_time": "2021-05-09T12:56:35.853306",
     "status": "completed"
    },
    "tags": []
   },
   "outputs": [],
   "source": [
    "class ArcMarginProduct(nn.Module):\n",
    "    def __init__(self, in_features, out_features, scale=30.0, margin=0.50, easy_margin=False, ls_eps=0.0):\n",
    "        super(ArcMarginProduct, self).__init__()\n",
    "        self.in_features = in_features\n",
    "        self.out_features = out_features\n",
    "        self.scale = scale\n",
    "        self.margin = margin\n",
    "        self.ls_eps = ls_eps  # label smoothing\n",
    "        self.weight = nn.Parameter(torch.FloatTensor(out_features, in_features))\n",
    "        nn.init.xavier_uniform_(self.weight)\n",
    "\n",
    "        self.easy_margin = easy_margin\n",
    "        self.cos_m = math.cos(margin)\n",
    "        self.sin_m = math.sin(margin)\n",
    "        self.th = math.cos(math.pi - margin)\n",
    "        self.mm = math.sin(math.pi - margin) * margin\n",
    "\n",
    "    def forward(self, input, label):\n",
    "        # --------------------------- cos(theta) & phi(theta) ---------------------------\n",
    "        cosine = F.linear(F.normalize(input), F.normalize(self.weight))\n",
    "        sine = torch.sqrt(1.0 - torch.pow(cosine, 2))\n",
    "        phi = cosine * self.cos_m - sine * self.sin_m\n",
    "        if self.easy_margin:\n",
    "            phi = torch.where(cosine > 0, phi, cosine)\n",
    "        else:\n",
    "            phi = torch.where(cosine > self.th, phi, cosine - self.mm)\n",
    "        # --------------------------- convert label to one-hot ---------------------------\n",
    "        # one_hot = torch.zeros(cosine.size(), requires_grad=True, device='cuda')\n",
    "        one_hot = torch.zeros(cosine.size(), device='cuda')\n",
    "        one_hot.scatter_(1, label.view(-1, 1).long(), 1)\n",
    "        if self.ls_eps > 0:\n",
    "            one_hot = (1 - self.ls_eps) * one_hot + self.ls_eps / self.out_features\n",
    "        # -------------torch.where(out_i = {x_i if condition_i else y_i) -------------\n",
    "        output = (one_hot * phi) + ((1.0 - one_hot) * cosine)\n",
    "        output *= self.scale\n",
    "\n",
    "        return output\n",
    "\n",
    "class ShopeeModel(nn.Module):\n",
    "\n",
    "    def __init__(\n",
    "        self,\n",
    "        n_classes = CFG.classes,\n",
    "        model_name = CFG.model_name,\n",
    "        fc_dim = 600,\n",
    "        margin = CFG.margin,\n",
    "        scale = CFG.scale,\n",
    "        use_fc = True,\n",
    "        pretrained = False):\n",
    "\n",
    "\n",
    "        super(ShopeeModel,self).__init__()\n",
    "        print('Building Model Backbone for {} model'.format(model_name))\n",
    "\n",
    "        self.backbone = timm.create_model(model_name, pretrained=pretrained)\n",
    "\n",
    "        if model_name == 'resnext50_32x4d':\n",
    "            final_in_features = self.backbone.fc.in_features\n",
    "            self.backbone.fc = nn.Identity()\n",
    "            self.backbone.global_pool = nn.Identity()\n",
    "\n",
    "        elif model_name == 'efficientnet_b3':\n",
    "            final_in_features = self.backbone.classifier.in_features\n",
    "            self.backbone.classifier = nn.Identity()\n",
    "            self.backbone.global_pool = nn.Identity()\n",
    "\n",
    "        elif model_name == 'tf_efficientnet_b5_ns':\n",
    "            final_in_features = self.backbone.classifier.in_features\n",
    "            self.backbone.classifier = nn.Identity()\n",
    "            self.backbone.global_pool = nn.Identity()\n",
    "        \n",
    "        elif 'nfnet' in model_name:\n",
    "            final_in_features = self.backbone.head.fc.in_features\n",
    "            self.backbone.head.fc = nn.Identity()\n",
    "            self.backbone.head.global_pool = nn.Identity()\n",
    "\n",
    "        self.pooling =  nn.AdaptiveAvgPool2d(1)\n",
    "\n",
    "        self.use_fc = use_fc\n",
    "\n",
    "        self.dropout = nn.Dropout(p=0.0)\n",
    "        self.fc = nn.Linear(final_in_features, fc_dim)\n",
    "        self.bn = nn.BatchNorm1d(fc_dim)\n",
    "        self._init_params()\n",
    "        final_in_features = fc_dim\n",
    "\n",
    "        self.final = ArcMarginProduct(\n",
    "            final_in_features,\n",
    "            n_classes,\n",
    "            scale = scale,\n",
    "            margin = margin,\n",
    "            easy_margin = False,\n",
    "            ls_eps = 0.0\n",
    "        )\n",
    "\n",
    "    def _init_params(self):\n",
    "        nn.init.xavier_normal_(self.fc.weight)\n",
    "        nn.init.constant_(self.fc.bias, 0)\n",
    "        nn.init.constant_(self.bn.weight, 1)\n",
    "        nn.init.constant_(self.bn.bias, 0)\n",
    "\n",
    "    def forward(self, image, label):\n",
    "        feature = self.extract_feat(image)\n",
    "        #logits = self.final(feature,label)\n",
    "        return feature\n",
    "\n",
    "    def extract_feat(self, x):\n",
    "        batch_size = x.shape[0]\n",
    "        x = self.backbone(x)\n",
    "        x = self.pooling(x).view(batch_size, -1)\n",
    "\n",
    "        if self.use_fc:\n",
    "            x = self.dropout(x)\n",
    "            x = self.fc(x)\n",
    "            x = self.bn(x)\n",
    "        return x"
   ]
  },
  {
   "cell_type": "code",
   "execution_count": 12,
   "id": "horizontal-governor",
   "metadata": {
    "execution": {
     "iopub.execute_input": "2021-05-09T12:56:35.933589Z",
     "iopub.status.busy": "2021-05-09T12:56:35.932763Z",
     "iopub.status.idle": "2021-05-09T12:56:35.935586Z",
     "shell.execute_reply": "2021-05-09T12:56:35.935115Z"
    },
    "papermill": {
     "duration": 0.028071,
     "end_time": "2021-05-09T12:56:35.935702",
     "exception": false,
     "start_time": "2021-05-09T12:56:35.907631",
     "status": "completed"
    },
    "tags": []
   },
   "outputs": [],
   "source": [
    "class Mish_func(torch.autograd.Function):\n",
    "    \n",
    "    \"\"\"from: https://github.com/tyunist/memory_efficient_mish_swish/blob/master/mish.py\"\"\"\n",
    "    \n",
    "    @staticmethod\n",
    "    def forward(ctx, i):\n",
    "        result = i * torch.tanh(F.softplus(i))\n",
    "        ctx.save_for_backward(i)\n",
    "        return result\n",
    "\n",
    "    @staticmethod\n",
    "    def backward(ctx, grad_output):\n",
    "        i = ctx.saved_variables[0]\n",
    "  \n",
    "        v = 1. + i.exp()\n",
    "        h = v.log() \n",
    "        grad_gh = 1./h.cosh().pow_(2) \n",
    "\n",
    "        # Note that grad_hv * grad_vx = sigmoid(x)\n",
    "        #grad_hv = 1./v  \n",
    "        #grad_vx = i.exp()\n",
    "        \n",
    "        grad_hx = i.sigmoid()\n",
    "\n",
    "        grad_gx = grad_gh *  grad_hx #grad_hv * grad_vx \n",
    "        \n",
    "        grad_f =  torch.tanh(F.softplus(i)) + i * grad_gx \n",
    "        \n",
    "        return grad_output * grad_f \n",
    "\n",
    "\n",
    "class Mish(nn.Module):\n",
    "    def __init__(self, **kwargs):\n",
    "        super().__init__()\n",
    "        pass\n",
    "    def forward(self, input_tensor):\n",
    "        return Mish_func.apply(input_tensor)\n",
    "\n",
    "\n",
    "def replace_activations(model, existing_layer, new_layer):\n",
    "    \n",
    "    \"\"\"A function for replacing existing activation layers\"\"\"\n",
    "    \n",
    "    for name, module in reversed(model._modules.items()):\n",
    "        if len(list(module.children())) > 0:\n",
    "            model._modules[name] = replace_activations(module, existing_layer, new_layer)\n",
    "\n",
    "        if type(module) == existing_layer:\n",
    "            layer_old = module\n",
    "            layer_new = new_layer\n",
    "            model._modules[name] = layer_new\n",
    "    return model"
   ]
  },
  {
   "cell_type": "code",
   "execution_count": 13,
   "id": "least-consent",
   "metadata": {
    "execution": {
     "iopub.execute_input": "2021-05-09T12:56:35.974912Z",
     "iopub.status.busy": "2021-05-09T12:56:35.974090Z",
     "iopub.status.idle": "2021-05-09T12:56:35.976948Z",
     "shell.execute_reply": "2021-05-09T12:56:35.976438Z"
    },
    "papermill": {
     "duration": 0.025918,
     "end_time": "2021-05-09T12:56:35.977063",
     "exception": false,
     "start_time": "2021-05-09T12:56:35.951145",
     "status": "completed"
    },
    "tags": []
   },
   "outputs": [],
   "source": [
    "def get_image_embeddings(image_paths, model_name = CFG.model_name):\n",
    "    embeds = []\n",
    "    \n",
    "    model = ShopeeModel(model_name = model_name)\n",
    "    model.eval()\n",
    "    \n",
    "    if model_name == 'eca_nfnet_l0':\n",
    "        model = replace_activations(model, torch.nn.SiLU, Mish())\n",
    "\n",
    "    model.load_state_dict(torch.load(CFG.model_path))\n",
    "    model = model.to(CFG.device)\n",
    "    \n",
    "\n",
    "    image_dataset = ShopeeDataset(image_paths=image_paths,transforms=get_test_transforms())\n",
    "    image_loader = torch.utils.data.DataLoader(\n",
    "        image_dataset,\n",
    "        batch_size=CFG.batch_size,\n",
    "        pin_memory=True,\n",
    "        drop_last=False,\n",
    "        num_workers=4\n",
    "    )\n",
    "    \n",
    "    \n",
    "    with torch.no_grad():\n",
    "        for img,label in tqdm(image_loader): \n",
    "            img = img.cuda()\n",
    "            label = label.cuda()\n",
    "            feat = model(img,label)\n",
    "            image_embeddings = feat.detach().cpu().numpy()\n",
    "            #print(\"image_embeddings\", image_embeddings)\n",
    "            #print(\"label\", label)\n",
    "            embeds.append(image_embeddings)\n",
    "            \n",
    "    \n",
    "    \n",
    "    del model\n",
    "    image_embeddings = np.concatenate(embeds)\n",
    "    print(f'Our image embeddings shape is {image_embeddings.shape}')\n",
    "    del embeds\n",
    "    gc.collect()\n",
    "    return image_embeddings"
   ]
  },
  {
   "cell_type": "code",
   "execution_count": 14,
   "id": "latter-candidate",
   "metadata": {
    "execution": {
     "iopub.execute_input": "2021-05-09T12:56:36.017323Z",
     "iopub.status.busy": "2021-05-09T12:56:36.016425Z",
     "iopub.status.idle": "2021-05-09T12:56:36.019644Z",
     "shell.execute_reply": "2021-05-09T12:56:36.019199Z"
    },
    "papermill": {
     "duration": 0.027299,
     "end_time": "2021-05-09T12:56:36.019790",
     "exception": false,
     "start_time": "2021-05-09T12:56:35.992491",
     "status": "completed"
    },
    "tags": []
   },
   "outputs": [],
   "source": [
    "def get_text_predictions(df, max_features = 25_000):\n",
    "    \n",
    "    # 前処理\n",
    "    df_cu['title'] = df_cu['title'].str.lower()\n",
    "    df_cu['title'] = df_cu['title'].str.replace(r\"[^a-zA-Z0-9]+\", \" \")\n",
    "    \n",
    "    model = TfidfVectorizer(stop_words = stop_words_all, binary = True, max_features = max_features)\n",
    "    text_embeddings = model.fit_transform(df_cu['title']).toarray()\n",
    "    preds = []\n",
    "    CHUNK = 1024*4\n",
    "\n",
    "    print('Finding similar titles...')\n",
    "    CTS = len(df)//CHUNK\n",
    "    if len(df)%CHUNK!=0: CTS += 1\n",
    "    for j in range( CTS ):\n",
    "\n",
    "        a = j*CHUNK\n",
    "        b = (j+1)*CHUNK\n",
    "        b = min(b,len(df))\n",
    "        print('chunk',a,'to',b)\n",
    "\n",
    "        # COSINE SIMILARITY DISTANCE\n",
    "        cts = cupy.matmul( text_embeddings, text_embeddings[a:b].T).T\n",
    "\n",
    "        for k in range(b-a):\n",
    "            IDX = cupy.where(cts[k,]>0.75)[0]\n",
    "            o = df.iloc[cupy.asnumpy(IDX)].posting_id.values\n",
    "            preds.append(o)\n",
    "    \n",
    "    del model,text_embeddings\n",
    "    gc.collect()\n",
    "    return preds"
   ]
  },
  {
   "cell_type": "code",
   "execution_count": 15,
   "id": "drawn-spirituality",
   "metadata": {
    "execution": {
     "iopub.execute_input": "2021-05-09T12:56:36.055707Z",
     "iopub.status.busy": "2021-05-09T12:56:36.054946Z",
     "iopub.status.idle": "2021-05-09T12:56:36.057900Z",
     "shell.execute_reply": "2021-05-09T12:56:36.057483Z"
    },
    "papermill": {
     "duration": 0.022695,
     "end_time": "2021-05-09T12:56:36.058022",
     "exception": false,
     "start_time": "2021-05-09T12:56:36.035327",
     "status": "completed"
    },
    "tags": []
   },
   "outputs": [],
   "source": [
    "def combine_predictions(row):\n",
    "    #x = np.concatenate([row['image_predictions'], row['text_predictions'], row['oof']])\n",
    "    x = np.concatenate([row['image_predictions'], row['text_predictions']])\n",
    "    return ' '.join( np.unique(x))"
   ]
  },
  {
   "cell_type": "code",
   "execution_count": 16,
   "id": "collectible-tender",
   "metadata": {
    "execution": {
     "iopub.execute_input": "2021-05-09T12:56:36.098163Z",
     "iopub.status.busy": "2021-05-09T12:56:36.097613Z",
     "iopub.status.idle": "2021-05-09T12:56:43.685967Z",
     "shell.execute_reply": "2021-05-09T12:56:43.685436Z"
    },
    "papermill": {
     "duration": 7.612453,
     "end_time": "2021-05-09T12:56:43.686118",
     "exception": false,
     "start_time": "2021-05-09T12:56:36.073665",
     "status": "completed"
    },
    "tags": []
   },
   "outputs": [],
   "source": [
    "df,df_cu,image_paths = read_dataset()\n",
    "#df.head()"
   ]
  },
  {
   "cell_type": "code",
   "execution_count": 17,
   "id": "oriented-mambo",
   "metadata": {
    "execution": {
     "iopub.execute_input": "2021-05-09T12:56:43.729887Z",
     "iopub.status.busy": "2021-05-09T12:56:43.729078Z",
     "iopub.status.idle": "2021-05-09T12:56:43.732810Z",
     "shell.execute_reply": "2021-05-09T12:56:43.732381Z"
    },
    "papermill": {
     "duration": 0.030779,
     "end_time": "2021-05-09T12:56:43.732920",
     "exception": false,
     "start_time": "2021-05-09T12:56:43.702141",
     "status": "completed"
    },
    "tags": []
   },
   "outputs": [],
   "source": [
    "tmp = df.groupby('image_phash').posting_id.agg('unique').to_dict()\n",
    "df['oof'] = df.image_phash.map(tmp)"
   ]
  },
  {
   "cell_type": "code",
   "execution_count": 18,
   "id": "tested-assault",
   "metadata": {
    "execution": {
     "iopub.execute_input": "2021-05-09T12:56:43.767962Z",
     "iopub.status.busy": "2021-05-09T12:56:43.767373Z",
     "iopub.status.idle": "2021-05-09T12:56:50.036726Z",
     "shell.execute_reply": "2021-05-09T12:56:50.037516Z"
    },
    "papermill": {
     "duration": 6.28964,
     "end_time": "2021-05-09T12:56:50.037718",
     "exception": false,
     "start_time": "2021-05-09T12:56:43.748078",
     "status": "completed"
    },
    "tags": []
   },
   "outputs": [
    {
     "name": "stdout",
     "output_type": "stream",
     "text": [
      "Building Model Backbone for eca_nfnet_l1 model\n"
     ]
    },
    {
     "name": "stderr",
     "output_type": "stream",
     "text": [
      "100%|██████████| 1/1 [00:01<00:00,  1.19s/it]"
     ]
    },
    {
     "name": "stdout",
     "output_type": "stream",
     "text": [
      "Our image embeddings shape is (3, 600)\n"
     ]
    },
    {
     "name": "stderr",
     "output_type": "stream",
     "text": [
      "\n"
     ]
    }
   ],
   "source": [
    "image_embeddings = get_image_embeddings(image_paths.values)"
   ]
  },
  {
   "cell_type": "code",
   "execution_count": 19,
   "id": "committed-arcade",
   "metadata": {
    "execution": {
     "iopub.execute_input": "2021-05-09T12:56:50.079403Z",
     "iopub.status.busy": "2021-05-09T12:56:50.078813Z",
     "iopub.status.idle": "2021-05-09T12:56:50.083615Z",
     "shell.execute_reply": "2021-05-09T12:56:50.084020Z"
    },
    "papermill": {
     "duration": 0.028051,
     "end_time": "2021-05-09T12:56:50.084154",
     "exception": false,
     "start_time": "2021-05-09T12:56:50.056103",
     "status": "completed"
    },
    "tags": []
   },
   "outputs": [
    {
     "data": {
      "text/plain": [
       "(3, 600)"
      ]
     },
     "execution_count": 19,
     "metadata": {},
     "output_type": "execute_result"
    }
   ],
   "source": [
    "image_embeddings.shape"
   ]
  },
  {
   "cell_type": "code",
   "execution_count": 20,
   "id": "personal-bible",
   "metadata": {
    "execution": {
     "iopub.execute_input": "2021-05-09T12:56:50.123382Z",
     "iopub.status.busy": "2021-05-09T12:56:50.122639Z",
     "iopub.status.idle": "2021-05-09T12:57:05.788501Z",
     "shell.execute_reply": "2021-05-09T12:57:05.787541Z"
    },
    "papermill": {
     "duration": 15.6873,
     "end_time": "2021-05-09T12:57:05.788659",
     "exception": false,
     "start_time": "2021-05-09T12:56:50.101359",
     "status": "completed"
    },
    "tags": []
   },
   "outputs": [
    {
     "name": "stderr",
     "output_type": "stream",
     "text": [
      "100%|██████████| 3/3 [00:00<00:00, 3564.56it/s]\n"
     ]
    },
    {
     "name": "stdout",
     "output_type": "stream",
     "text": [
      "Finding similar titles...\n",
      "chunk 0 to 3\n"
     ]
    }
   ],
   "source": [
    "image_predictions = get_image_predictions(df, image_embeddings, threshold = 0.36)\n",
    "text_predictions = get_text_predictions(df, max_features = 25_000)"
   ]
  },
  {
   "cell_type": "code",
   "execution_count": 21,
   "id": "weekly-continent",
   "metadata": {
    "execution": {
     "iopub.execute_input": "2021-05-09T12:57:05.832753Z",
     "iopub.status.busy": "2021-05-09T12:57:05.831865Z",
     "iopub.status.idle": "2021-05-09T12:57:05.974443Z",
     "shell.execute_reply": "2021-05-09T12:57:05.973675Z"
    },
    "papermill": {
     "duration": 0.16668,
     "end_time": "2021-05-09T12:57:05.974596",
     "exception": false,
     "start_time": "2021-05-09T12:57:05.807916",
     "status": "completed"
    },
    "tags": []
   },
   "outputs": [],
   "source": [
    "df['image_predictions'] = image_predictions\n",
    "df['text_predictions'] = text_predictions\n",
    "df['matches'] = df.apply(combine_predictions, axis = 1)\n",
    "df[['posting_id', 'matches']].to_csv('submission.csv', index = False)"
   ]
  },
  {
   "cell_type": "code",
   "execution_count": 22,
   "id": "annual-transcription",
   "metadata": {
    "execution": {
     "iopub.execute_input": "2021-05-09T12:57:06.017302Z",
     "iopub.status.busy": "2021-05-09T12:57:06.016556Z",
     "iopub.status.idle": "2021-05-09T12:57:06.019507Z",
     "shell.execute_reply": "2021-05-09T12:57:06.018951Z"
    },
    "papermill": {
     "duration": 0.026033,
     "end_time": "2021-05-09T12:57:06.019621",
     "exception": false,
     "start_time": "2021-05-09T12:57:05.993588",
     "status": "completed"
    },
    "tags": []
   },
   "outputs": [],
   "source": [
    "#df.head()"
   ]
  }
 ],
 "metadata": {
  "kernelspec": {
   "display_name": "Python 3",
   "language": "python",
   "name": "python3"
  },
  "language_info": {
   "codemirror_mode": {
    "name": "ipython",
    "version": 3
   },
   "file_extension": ".py",
   "mimetype": "text/x-python",
   "name": "python",
   "nbconvert_exporter": "python",
   "pygments_lexer": "ipython3",
   "version": "3.8.5"
  },
  "papermill": {
   "default_parameters": {},
   "duration": 46.919492,
   "end_time": "2021-05-09T12:57:07.751969",
   "environment_variables": {},
   "exception": null,
   "input_path": "__notebook__.ipynb",
   "output_path": "__notebook__.ipynb",
   "parameters": {},
   "start_time": "2021-05-09T12:56:20.832477",
   "version": "2.3.2"
  },
  "toc": {
   "base_numbering": 1,
   "nav_menu": {},
   "number_sections": true,
   "sideBar": true,
   "skip_h1_title": false,
   "title_cell": "Table of Contents",
   "title_sidebar": "Contents",
   "toc_cell": false,
   "toc_position": {},
   "toc_section_display": true,
   "toc_window_display": false
  },
  "varInspector": {
   "cols": {
    "lenName": 16,
    "lenType": 16,
    "lenVar": 40
   },
   "kernels_config": {
    "python": {
     "delete_cmd_postfix": "",
     "delete_cmd_prefix": "del ",
     "library": "var_list.py",
     "varRefreshCmd": "print(var_dic_list())"
    },
    "r": {
     "delete_cmd_postfix": ") ",
     "delete_cmd_prefix": "rm(",
     "library": "var_list.r",
     "varRefreshCmd": "cat(var_dic_list()) "
    }
   },
   "types_to_exclude": [
    "module",
    "function",
    "builtin_function_or_method",
    "instance",
    "_Feature"
   ],
   "window_display": false
  }
 },
 "nbformat": 4,
 "nbformat_minor": 5
}
